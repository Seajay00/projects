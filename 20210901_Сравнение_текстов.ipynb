{
  "nbformat": 4,
  "nbformat_minor": 0,
  "metadata": {
    "colab": {
      "name": "20210901 Сравнение текстов.ipynb",
      "provenance": [],
      "authorship_tag": "ABX9TyNBnVTujYky+4bxNa0XtX1m",
      "include_colab_link": true
    },
    "kernelspec": {
      "name": "python3",
      "display_name": "Python 3"
    },
    "language_info": {
      "name": "python"
    }
  },
  "cells": [
    {
      "cell_type": "markdown",
      "metadata": {
        "id": "view-in-github",
        "colab_type": "text"
      },
      "source": [
        "<a href=\"https://colab.research.google.com/github/Seajay00/projects/blob/main/20210901_%D0%A1%D1%80%D0%B0%D0%B2%D0%BD%D0%B5%D0%BD%D0%B8%D0%B5_%D1%82%D0%B5%D0%BA%D1%81%D1%82%D0%BE%D0%B2.ipynb\" target=\"_parent\"><img src=\"https://colab.research.google.com/assets/colab-badge.svg\" alt=\"Open In Colab\"/></a>"
      ]
    },
    {
      "cell_type": "code",
      "metadata": {
        "id": "ks0nPAWk8GJ5"
      },
      "source": [
        "from fuzzywuzzy import fuzz\n",
        "import pandas as pd\n",
        "from difflib import SequenceMatcher\n",
        "import Levenshtein\n",
        "import statistics as st"
      ],
      "execution_count": 54,
      "outputs": []
    },
    {
      "cell_type": "code",
      "metadata": {
        "colab": {
          "base_uri": "https://localhost:8080/"
        },
        "id": "ozkPY_Bc9IZe",
        "outputId": "67d93450-a843-4451-d9f9-e807da0c79ed"
      },
      "source": [
        "pip install fuzzywuzzy python-Levenshtein"
      ],
      "execution_count": 2,
      "outputs": [
        {
          "output_type": "stream",
          "name": "stdout",
          "text": [
            "Collecting fuzzywuzzy\n",
            "  Downloading fuzzywuzzy-0.18.0-py2.py3-none-any.whl (18 kB)\n",
            "Collecting python-Levenshtein\n",
            "  Downloading python-Levenshtein-0.12.2.tar.gz (50 kB)\n",
            "\u001b[?25l\r\u001b[K     |██████▌                         | 10 kB 23.9 MB/s eta 0:00:01\r\u001b[K     |█████████████                   | 20 kB 29.6 MB/s eta 0:00:01\r\u001b[K     |███████████████████▌            | 30 kB 35.0 MB/s eta 0:00:01\r\u001b[K     |██████████████████████████      | 40 kB 37.8 MB/s eta 0:00:01\r\u001b[K     |████████████████████████████████| 50 kB 6.7 MB/s \n",
            "\u001b[?25hRequirement already satisfied: setuptools in /usr/local/lib/python3.7/dist-packages (from python-Levenshtein) (57.4.0)\n",
            "Building wheels for collected packages: python-Levenshtein\n",
            "  Building wheel for python-Levenshtein (setup.py) ... \u001b[?25l\u001b[?25hdone\n",
            "  Created wheel for python-Levenshtein: filename=python_Levenshtein-0.12.2-cp37-cp37m-linux_x86_64.whl size=149862 sha256=8a30184c30436f533b8f14fdd227f1b40df370678965d76e39d98772ee5e5b22\n",
            "  Stored in directory: /root/.cache/pip/wheels/05/5f/ca/7c4367734892581bb5ff896f15027a932c551080b2abd3e00d\n",
            "Successfully built python-Levenshtein\n",
            "Installing collected packages: python-Levenshtein, fuzzywuzzy\n",
            "Successfully installed fuzzywuzzy-0.18.0 python-Levenshtein-0.12.2\n"
          ]
        }
      ]
    },
    {
      "cell_type": "code",
      "metadata": {
        "colab": {
          "base_uri": "https://localhost:8080/"
        },
        "id": "1ocbCB_39fOM",
        "outputId": "816660a1-affd-404c-ab86-4d61ec728cd9"
      },
      "source": [
        "fuzz.ratio(\"я люблю спать\", \"я люблю спать iiiiiii iiiiii iiiiii\")"
      ],
      "execution_count": 10,
      "outputs": [
        {
          "output_type": "execute_result",
          "data": {
            "text/plain": [
              "54"
            ]
          },
          "metadata": {},
          "execution_count": 10
        }
      ]
    },
    {
      "cell_type": "code",
      "metadata": {
        "colab": {
          "base_uri": "https://localhost:8080/"
        },
        "id": "hip8hlk39xQn",
        "outputId": "0c45c224-dc8e-4874-cf45-ed139e477166"
      },
      "source": [
        "fuzz.WRatio(\"я люблю спать\", \" я люблю спать \")"
      ],
      "execution_count": 26,
      "outputs": [
        {
          "output_type": "execute_result",
          "data": {
            "text/plain": [
              "100"
            ]
          },
          "metadata": {},
          "execution_count": 26
        }
      ]
    },
    {
      "cell_type": "code",
      "metadata": {
        "colab": {
          "base_uri": "https://localhost:8080/"
        },
        "id": "SiFOU5Rq_Hii",
        "outputId": "a355fa71-7f51-4b9b-8bbf-ecfa1d84d45e"
      },
      "source": [
        "fuzz.partial_ratio(\"одно я знаю oo\", \"одно я знаю ff\")"
      ],
      "execution_count": 35,
      "outputs": [
        {
          "output_type": "execute_result",
          "data": {
            "text/plain": [
              "86"
            ]
          },
          "metadata": {},
          "execution_count": 35
        }
      ]
    },
    {
      "cell_type": "code",
      "metadata": {
        "id": "B4pOnVUO-jlj"
      },
      "source": [
        "def get_ratio(row):\n",
        "    name = row['Last/Business Name']\n",
        "    return fuzz.token_sort_ratio(name, \"Alaska Sea Pilot PAC Fund\")\n"
      ],
      "execution_count": 27,
      "outputs": []
    },
    {
      "cell_type": "code",
      "metadata": {
        "colab": {
          "base_uri": "https://localhost:8080/",
          "height": 166
        },
        "id": "pyAGwTHb-lBJ",
        "outputId": "9d7aa980-75c0-488b-c79b-ea990ee4d54f"
      },
      "source": [
        "df[df.apply(get_ratio, axis=1) > 70]"
      ],
      "execution_count": 30,
      "outputs": [
        {
          "output_type": "error",
          "ename": "NameError",
          "evalue": "ignored",
          "traceback": [
            "\u001b[0;31m---------------------------------------------------------------------------\u001b[0m",
            "\u001b[0;31mNameError\u001b[0m                                 Traceback (most recent call last)",
            "\u001b[0;32m<ipython-input-30-474fd24d775e>\u001b[0m in \u001b[0;36m<module>\u001b[0;34m()\u001b[0m\n\u001b[0;32m----> 1\u001b[0;31m \u001b[0mdf\u001b[0m\u001b[0;34m[\u001b[0m\u001b[0mdf\u001b[0m\u001b[0;34m.\u001b[0m\u001b[0mapply\u001b[0m\u001b[0;34m(\u001b[0m\u001b[0mget_ratio\u001b[0m\u001b[0;34m,\u001b[0m \u001b[0maxis\u001b[0m\u001b[0;34m=\u001b[0m\u001b[0;36m1\u001b[0m\u001b[0;34m)\u001b[0m \u001b[0;34m>\u001b[0m \u001b[0;36m70\u001b[0m\u001b[0;34m]\u001b[0m\u001b[0;34m\u001b[0m\u001b[0;34m\u001b[0m\u001b[0m\n\u001b[0m",
            "\u001b[0;31mNameError\u001b[0m: name 'df' is not defined"
          ]
        }
      ]
    },
    {
      "cell_type": "code",
      "metadata": {
        "id": "P_W-RXQjBHT3"
      },
      "source": [
        "stih1 ='''Ты меня не любишь, не жалеешь,\n",
        "Разве я немного не красив?\n",
        "Не смотря в лицо, от страсти млеешь,\n",
        "Мне на плечи руки опустив.\n",
        "\n",
        "Молодая, с чувственным оскалом,\n",
        "Я с тобой не нежен и не груб.\n",
        "Расскажи мне, скольких ты ласкала?\n",
        "Сколько рук ты помнишь? Сколько губ?\n",
        "\n",
        "Знаю я — они прошли, как тени,\n",
        "Не коснувшись твоего огня,\n",
        "Многим ты садилась на колени,\n",
        "А теперь сидишь вот у меня.\n",
        "\n",
        "Пусть твои полузакрыты очи\n",
        "И ты думаешь о ком-нибудь другом,\n",
        "Я ведь сам люблю тебя не очень,\n",
        "Утопая в дальнем дорогом.\n",
        "\n",
        "Этот пыл не называй судьбою,\n",
        "Легкодумна вспыльчивая связь, —\n",
        "Как случайно встретился с тобою,\n",
        "Улыбнусь, спокойно разойдясь.\n",
        "\n",
        "Да и ты пойдешь своей дорогой\n",
        "Распылять безрадостные дни,\n",
        "Только нецелованных не трогай,\n",
        "Только негоревших не мани.\n",
        "\n",
        "И когда с другим по переулку\n",
        "Ты пройдешь, болтая про любовь,\n",
        "Может быть, я выйду на прогулку,\n",
        "И с тобою встретимся мы вновь.\n",
        "\n",
        "Отвернув к другому ближе плечи\n",
        "И немного наклонившись вниз,\n",
        "Ты мне скажешь тихо: «Добрый вечер!»\n",
        "Я отвечу: «Добры вечер, miss».\n",
        "\n",
        "И ничто души не потревожит,\n",
        "И ничто ее не бросит в дрожь, —\n",
        "Кто любил, уж тот любить не может,\n",
        "Кто сгорел, того не подожжешь.'''"
      ],
      "execution_count": 37,
      "outputs": []
    },
    {
      "cell_type": "code",
      "metadata": {
        "id": "5GuCaz69BTBn"
      },
      "source": [
        "stih2 = '''Ты меня не любишь, не жалеешь,\n",
        "Разве я немного не красив?\n",
        "Не смотря в лицо, от страсти млеешь,\n",
        "Мне на плечи руки опустив.\n",
        "\n",
        "Молодая, с чувственным оскалом,\n",
        "Я с тобой не нежен и не груб.\n",
        "Расскажи мне, скольких ты ласкала?\n",
        "Сколько рук ты помнишь? Сколько губ?\n",
        "\n",
        "Знаю я — они прошли, как тени,\n",
        "Не коснувшись твоего огня,\n",
        "Многим ты садилась на колени,\n",
        "А теперь сидишь вот у меня.\n",
        "\n",
        "Пусть твои полузакрыты очи\n",
        "И ты думаешь о ком-нибудь другом,\n",
        "Я ведь сам люблю тебя не очень,\n",
        "Утопая в дальнем дорогом.\n",
        "\n",
        "Этот пыл не называй судьбою,\n",
        "Легкодумна вспыльчивая связь, —\n",
        "Как случайно встретился с тобою,\n",
        "Улыбнусь, спокойно разойдясь.\n",
        "\n",
        "Да и ты пойдешь своей дорогой\n",
        "Распылять безрадостные дни,\n",
        "Только нецелованных не трогай,\n",
        "Только негоревших не мани.\n",
        "\n",
        "И когда с другим по переулку\n",
        "Ты пройдешь, болтая про любовь,\n",
        "Может быть, я выйду на прогулку,\n",
        "И с тобою встретимся мы вновь.\n",
        "\n",
        "Отвернув к другому ближе плечи\n",
        "И немного наклонившись вниз,\n",
        "Ты мне скажешь тихо: «Добрый вечер!»\n",
        "Я отвечу: «Добры вечер, miss».\n",
        "\n",
        "И ничто души не потревожит,\n",
        "И ничто ее не бросит в дрожь, —\n",
        "Кто любил, уж тот любить не может,\n",
        "Кто сгорел, того не разожжешь.'''   #изменено на \"разожжешь\""
      ],
      "execution_count": 48,
      "outputs": []
    },
    {
      "cell_type": "code",
      "metadata": {
        "colab": {
          "base_uri": "https://localhost:8080/"
        },
        "id": "llFSl5crBd5e",
        "outputId": "e4242651-c0d3-4544-c415-63eff592f3cf"
      },
      "source": [
        "fuzz.WRatio(stih1,stih2)"
      ],
      "execution_count": 39,
      "outputs": [
        {
          "output_type": "execute_result",
          "data": {
            "text/plain": [
              "100"
            ]
          },
          "metadata": {},
          "execution_count": 39
        }
      ]
    },
    {
      "cell_type": "code",
      "metadata": {
        "colab": {
          "base_uri": "https://localhost:8080/"
        },
        "id": "wwcK78HHCJuQ",
        "outputId": "2a45799f-95bb-4061-a1a0-cabb14a9fdde"
      },
      "source": [
        "fuzz.ratio(stih1,stih2)"
      ],
      "execution_count": 40,
      "outputs": [
        {
          "output_type": "execute_result",
          "data": {
            "text/plain": [
              "100"
            ]
          },
          "metadata": {},
          "execution_count": 40
        }
      ]
    },
    {
      "cell_type": "code",
      "metadata": {
        "colab": {
          "base_uri": "https://localhost:8080/"
        },
        "id": "tpuP2MwNGoKH",
        "outputId": "400d7e9d-887f-46ed-e87e-d0ec198f476b"
      },
      "source": [
        "# from fuzzywuzzy import fuzz\n",
        " \n",
        "# токенизируем слова по пробелу - самый элементарный способ, хотя в модулях для natural language processing (например, nltk) есть спец. токенизаторы\n",
        "sentences = stih1.split(),stih2.split()#\"Мама мыла раму\".split(), 'Мама мыла малину'.split()\n",
        "# sentences = \"Мама мыла раму\".split(), 'Мама мыла малину'.split()\n",
        "# print(sentences[0])\n",
        "l =[]\n",
        "l2=[]\n",
        "l3=[]\n",
        "for w1,w2 in zip(sentences[0],sentences[1]):\n",
        "    # print(sentences[0],sentences[1])\n",
        "    l.append(Levenshtein.ratio(w1,w2))\n",
        "    l2.append(fuzz.ratio(w1,w2))\n",
        "    l3.append(Levenshtein.jaro_winkler(w1,w2))\n",
        " \n",
        "print('Levenshtein:',st.mean(l))   # 0.8\n",
        "print('fuzzywuzzy %:',st.mean(l2)) # 80\n",
        "print('jaro_winkler:',st.mean(l3)) # 0.8796296296296297"
      ],
      "execution_count": 53,
      "outputs": [
        {
          "output_type": "stream",
          "name": "stdout",
          "text": [
            "['Ты', 'меня', 'не', 'любишь,', 'не', 'жалеешь,', 'Разве', 'я', 'немного', 'не', 'красив?', 'Не', 'смотря', 'в', 'лицо,', 'от', 'страсти', 'млеешь,', 'Мне', 'на', 'плечи', 'руки', 'опустив.', 'Молодая,', 'с', 'чувственным', 'оскалом,', 'Я', 'с', 'тобой', 'не', 'нежен', 'и', 'не', 'груб.', 'Расскажи', 'мне,', 'скольких', 'ты', 'ласкала?', 'Сколько', 'рук', 'ты', 'помнишь?', 'Сколько', 'губ?', 'Знаю', 'я', '—', 'они', 'прошли,', 'как', 'тени,', 'Не', 'коснувшись', 'твоего', 'огня,', 'Многим', 'ты', 'садилась', 'на', 'колени,', 'А', 'теперь', 'сидишь', 'вот', 'у', 'меня.', 'Пусть', 'твои', 'полузакрыты', 'очи', 'И', 'ты', 'думаешь', 'о', 'ком-нибудь', 'другом,', 'Я', 'ведь', 'сам', 'люблю', 'тебя', 'не', 'очень,', 'Утопая', 'в', 'дальнем', 'дорогом.', 'Этот', 'пыл', 'не', 'называй', 'судьбою,', 'Легкодумна', 'вспыльчивая', 'связь,', '—', 'Как', 'случайно', 'встретился', 'с', 'тобою,', 'Улыбнусь,', 'спокойно', 'разойдясь.', 'Да', 'и', 'ты', 'пойдешь', 'своей', 'дорогой', 'Распылять', 'безрадостные', 'дни,', 'Только', 'нецелованных', 'не', 'трогай,', 'Только', 'негоревших', 'не', 'мани.', 'И', 'когда', 'с', 'другим', 'по', 'переулку', 'Ты', 'пройдешь,', 'болтая', 'про', 'любовь,', 'Может', 'быть,', 'я', 'выйду', 'на', 'прогулку,', 'И', 'с', 'тобою', 'встретимся', 'мы', 'вновь.', 'Отвернув', 'к', 'другому', 'ближе', 'плечи', 'И', 'немного', 'наклонившись', 'вниз,', 'Ты', 'мне', 'скажешь', 'тихо:', '«Добрый', 'вечер!»', 'Я', 'отвечу:', '«Добры', 'вечер,', 'miss».', 'И', 'ничто', 'души', 'не', 'потревожит,', 'И', 'ничто', 'ее', 'не', 'бросит', 'в', 'дрожь,', '—', 'Кто', 'любил,', 'уж', 'тот', 'любить', 'не', 'может,', 'Кто', 'сгорел,', 'того', 'не', 'подожжешь.']\n",
            "Levenshtein: 0.993767140363999\n",
            "fuzzywuzzy %: 99.37696335078535\n",
            "jaro_winkler: 0.9939790575916231\n"
          ]
        }
      ]
    },
    {
      "cell_type": "code",
      "metadata": {
        "colab": {
          "base_uri": "https://localhost:8080/"
        },
        "id": "qm2wDM2KJINj",
        "outputId": "cf493ccc-76b5-4365-b87f-1890f467da07"
      },
      "source": [
        "\n",
        "s = SequenceMatcher(lambda x: x==\" \", stih1, stih2) \n",
        "print('difflib:',\"{:0.5f}\".format(s.ratio()))  #0.8"
      ],
      "execution_count": 63,
      "outputs": [
        {
          "output_type": "stream",
          "name": "stdout",
          "text": [
            "difflib: 0.99326\n"
          ]
        }
      ]
    },
    {
      "cell_type": "code",
      "metadata": {
        "id": "dmD1pfgkBkyQ"
      },
      "source": [
        ""
      ],
      "execution_count": null,
      "outputs": []
    }
  ]
}